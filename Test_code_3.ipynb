{
  "cells": [
    {
      "cell_type": "code",
      "execution_count": 1,
      "metadata": {
        "colab": {
          "base_uri": "https://localhost:8080/"
        },
        "collapsed": true,
        "id": "xoqaU1JoT1sn",
        "outputId": "e8fca0b4-71df-4eb1-d323-f701ff6ea6fa"
      },
      "outputs": [
        {
          "output_type": "stream",
          "name": "stdout",
          "text": [
            "Collecting qutip\n",
            "  Downloading qutip-5.0.4-cp310-cp310-manylinux_2_17_x86_64.manylinux2014_x86_64.whl.metadata (9.2 kB)\n",
            "Requirement already satisfied: numpy>=1.22 in /usr/local/lib/python3.10/dist-packages (from qutip) (1.26.4)\n",
            "Requirement already satisfied: scipy>=1.9 in /usr/local/lib/python3.10/dist-packages (from qutip) (1.13.1)\n",
            "Requirement already satisfied: packaging in /usr/local/lib/python3.10/dist-packages (from qutip) (24.2)\n",
            "Downloading qutip-5.0.4-cp310-cp310-manylinux_2_17_x86_64.manylinux2014_x86_64.whl (28.0 MB)\n",
            "\u001b[2K   \u001b[90m━━━━━━━━━━━━━━━━━━━━━━━━━━━━━━━━━━━━━━━━\u001b[0m \u001b[32m28.0/28.0 MB\u001b[0m \u001b[31m47.9 MB/s\u001b[0m eta \u001b[36m0:00:00\u001b[0m\n",
            "\u001b[?25hInstalling collected packages: qutip\n",
            "Successfully installed qutip-5.0.4\n",
            "Collecting cplot\n",
            "  Downloading cplot-0.9.3-py3-none-any.whl.metadata (48 kB)\n",
            "\u001b[2K     \u001b[90m━━━━━━━━━━━━━━━━━━━━━━━━━━━━━━━━━━━━━━━━\u001b[0m \u001b[32m48.5/48.5 kB\u001b[0m \u001b[31m1.8 MB/s\u001b[0m eta \u001b[36m0:00:00\u001b[0m\n",
            "\u001b[?25hRequirement already satisfied: matplotlib in /usr/local/lib/python3.10/dist-packages (from cplot) (3.8.0)\n",
            "Collecting matplotx>=0.3.10 (from matplotx[all]>=0.3.10->cplot)\n",
            "  Downloading matplotx-0.3.10-py3-none-any.whl.metadata (13 kB)\n",
            "Collecting npx (from cplot)\n",
            "  Downloading npx-0.1.6-py3-none-any.whl.metadata (7.0 kB)\n",
            "Requirement already satisfied: numpy>=1.20.0 in /usr/local/lib/python3.10/dist-packages (from cplot) (1.26.4)\n",
            "Requirement already satisfied: networkx in /usr/local/lib/python3.10/dist-packages (from matplotx[all]>=0.3.10->cplot) (3.4.2)\n",
            "Collecting pypng (from matplotx[all]>=0.3.10->cplot)\n",
            "  Downloading pypng-0.20220715.0-py3-none-any.whl.metadata (13 kB)\n",
            "Requirement already satisfied: scipy in /usr/local/lib/python3.10/dist-packages (from matplotx[all]>=0.3.10->cplot) (1.13.1)\n",
            "Requirement already satisfied: contourpy>=1.0.1 in /usr/local/lib/python3.10/dist-packages (from matplotlib->cplot) (1.3.1)\n",
            "Requirement already satisfied: cycler>=0.10 in /usr/local/lib/python3.10/dist-packages (from matplotlib->cplot) (0.12.1)\n",
            "Requirement already satisfied: fonttools>=4.22.0 in /usr/local/lib/python3.10/dist-packages (from matplotlib->cplot) (4.55.0)\n",
            "Requirement already satisfied: kiwisolver>=1.0.1 in /usr/local/lib/python3.10/dist-packages (from matplotlib->cplot) (1.4.7)\n",
            "Requirement already satisfied: packaging>=20.0 in /usr/local/lib/python3.10/dist-packages (from matplotlib->cplot) (24.2)\n",
            "Requirement already satisfied: pillow>=6.2.0 in /usr/local/lib/python3.10/dist-packages (from matplotlib->cplot) (11.0.0)\n",
            "Requirement already satisfied: pyparsing>=2.3.1 in /usr/local/lib/python3.10/dist-packages (from matplotlib->cplot) (3.2.0)\n",
            "Requirement already satisfied: python-dateutil>=2.7 in /usr/local/lib/python3.10/dist-packages (from matplotlib->cplot) (2.8.2)\n",
            "Requirement already satisfied: six>=1.5 in /usr/local/lib/python3.10/dist-packages (from python-dateutil>=2.7->matplotlib->cplot) (1.16.0)\n",
            "Downloading cplot-0.9.3-py3-none-any.whl (39 kB)\n",
            "Downloading matplotx-0.3.10-py3-none-any.whl (25 kB)\n",
            "Downloading npx-0.1.6-py3-none-any.whl (10 kB)\n",
            "Downloading pypng-0.20220715.0-py3-none-any.whl (58 kB)\n",
            "\u001b[2K   \u001b[90m━━━━━━━━━━━━━━━━━━━━━━━━━━━━━━━━━━━━━━━━\u001b[0m \u001b[32m58.1/58.1 kB\u001b[0m \u001b[31m3.2 MB/s\u001b[0m eta \u001b[36m0:00:00\u001b[0m\n",
            "\u001b[?25hInstalling collected packages: pypng, npx, matplotx, cplot\n",
            "Successfully installed cplot-0.9.3 matplotx-0.3.10 npx-0.1.6 pypng-0.20220715.0\n",
            "Requirement already satisfied: matplotlib in /usr/local/lib/python3.10/dist-packages (3.8.0)\n",
            "Requirement already satisfied: contourpy>=1.0.1 in /usr/local/lib/python3.10/dist-packages (from matplotlib) (1.3.1)\n",
            "Requirement already satisfied: cycler>=0.10 in /usr/local/lib/python3.10/dist-packages (from matplotlib) (0.12.1)\n",
            "Requirement already satisfied: fonttools>=4.22.0 in /usr/local/lib/python3.10/dist-packages (from matplotlib) (4.55.0)\n",
            "Requirement already satisfied: kiwisolver>=1.0.1 in /usr/local/lib/python3.10/dist-packages (from matplotlib) (1.4.7)\n",
            "Requirement already satisfied: numpy<2,>=1.21 in /usr/local/lib/python3.10/dist-packages (from matplotlib) (1.26.4)\n",
            "Requirement already satisfied: packaging>=20.0 in /usr/local/lib/python3.10/dist-packages (from matplotlib) (24.2)\n",
            "Requirement already satisfied: pillow>=6.2.0 in /usr/local/lib/python3.10/dist-packages (from matplotlib) (11.0.0)\n",
            "Requirement already satisfied: pyparsing>=2.3.1 in /usr/local/lib/python3.10/dist-packages (from matplotlib) (3.2.0)\n",
            "Requirement already satisfied: python-dateutil>=2.7 in /usr/local/lib/python3.10/dist-packages (from matplotlib) (2.8.2)\n",
            "Requirement already satisfied: six>=1.5 in /usr/local/lib/python3.10/dist-packages (from python-dateutil>=2.7->matplotlib) (1.16.0)\n"
          ]
        }
      ],
      "source": [
        "!pip install qutip\n",
        "!pip install cplot\n",
        "!pip install matplotlib\n",
        "\n",
        "from qutip import *\n",
        "import numpy as np\n",
        "import matplotlib.pyplot as plt\n",
        "import scipy\n",
        "import cplot as cplt\n",
        "import matplotlib as mpl\n",
        "from matplotlib import cm\n",
        "\n",
        "from pylab import *\n",
        "import matplotlib.animation as animation\n",
        "from mpl_toolkits.mplot3d import Axes3D\n",
        "from scipy import integrate"
      ]
    },
    {
      "cell_type": "markdown",
      "source": [
        "**Code 2**"
      ],
      "metadata": {
        "id": "GxDvbAkjcd1x"
      }
    },
    {
      "cell_type": "markdown",
      "source": [
        "![image.png](data:image/png;base64,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)"
      ],
      "metadata": {
        "id": "fKQtk0xf0FYu"
      }
    },
    {
      "cell_type": "markdown",
      "source": [
        " Red dotted line: m = 1; green dashed line: m = 2; blue solid line: m = 3."
      ],
      "metadata": {
        "id": "8NbiILNo0OYc"
      }
    },
    {
      "cell_type": "markdown",
      "source": [
        "![image.png](data:image/png;base64,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)"
      ],
      "metadata": {
        "id": "8JAPTWXw0Yhr"
      }
    },
    {
      "cell_type": "markdown",
      "source": [
        "W(0) is the Wigner function at the origin"
      ],
      "metadata": {
        "id": "l5oHjZia0guN"
      }
    },
    {
      "cell_type": "markdown",
      "source": [
        "اینجا هم باید تحول زمانی تابع ویگنر در مبدا رو داشته باشیم و با استفاده از اون  کمیت دلتا رو محاسبه کنیم."
      ],
      "metadata": {
        "id": "MdZx4ygQ09G1"
      }
    },
    {
      "cell_type": "code",
      "source": [
        "N = 50\n",
        "m = 1\n",
        "\n",
        "a = qutip.destroy(N)\n",
        "psi = qutip.fock(N, m).unit()\n",
        "\n",
        "n = qutip.expect(a.dag() * a, psi)\n",
        "n_term = (2 / np.pi) * np.exp(-2 * n * (1 + n))\n",
        "\n",
        "x = np.linspace(-5, 5, 100)\n",
        "y = np.linspace(-5, 5, 100)\n",
        "X, Y = np.meshgrid(x, y)\n",
        "gamma = X + 1j * Y\n",
        "epsilon_values = np.linspace(0.001, 1, 50)\n",
        "delta_values = []\n",
        "\n",
        "W0 = qutip.wigner(psi, x, y)\n",
        "\n",
        "def wigner_integrand(ksi, gamma_value, W0, epsilon):\n",
        "\n",
        "    return (1 / np.pi) * np.exp((-2 / epsilon) * np.abs(ksi - gamma_value * np.sqrt(1 - epsilon))**2) * W0\n",
        "\n",
        "for epsilon in epsilon_values:\n",
        "    W = np.zeros_like(W0, dtype=complex)\n",
        "    for i in range(len(x)):\n",
        "        for j in range(len(y)):\n",
        "            gamma_value = gamma[i, j]\n",
        "            integrand_vals = wigner_integrand(gamma_value, gamma, W0, epsilon)\n",
        "            W[i, j] = (2 / epsilon) * integrate.simpson(\n",
        "                integrate.simpson(integrand_vals, x), y\n",
        "            )\n",
        "\n",
        "    center_index = len(x) // 2\n",
        "    delta = W[center_index, center_index] - n_term\n",
        "    delta_values.append(delta)\n",
        "\n",
        "plt.plot(epsilon_values, delta_values, label=' m=1')\n",
        "plt.xlabel('$\\\\epsilon$')\n",
        "plt.ylabel('$\\\\delta(\\\\epsilon)$')\n",
        "plt.legend()\n",
        "\n",
        "plt.show()"
      ],
      "metadata": {
        "id": "d5E-1cxJz6-2"
      },
      "execution_count": null,
      "outputs": []
    }
  ],
  "metadata": {
    "colab": {
      "provenance": []
    },
    "kernelspec": {
      "display_name": "Python 3",
      "name": "python3"
    },
    "language_info": {
      "name": "python"
    }
  },
  "nbformat": 4,
  "nbformat_minor": 0
}